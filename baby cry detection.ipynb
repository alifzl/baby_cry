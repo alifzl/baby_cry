{
 "cells": [
  {
   "cell_type": "code",
   "execution_count": 2,
   "id": "460a73e3-11fa-44ec-9fca-1b3fa46a381d",
   "metadata": {},
   "outputs": [],
   "source": [
    "import predict_model\n",
    "from shutil import move\n",
    "from threading import Thread\n",
    "\n",
    "cry_count = 1\n",
    "silent_count = 1\n",
    "flag = 0\n",
    "cry_count = 0\n",
    "silent_count = 0"
   ]
  },
  {
   "cell_type": "code",
   "execution_count": 3,
   "id": "d7c59dab-f681-4e4d-930d-7fc904eee647",
   "metadata": {},
   "outputs": [],
   "source": [
    "def Baby_Cry_Detction():\n",
    "    global cry_count, silent_count, flag\n",
    "\n",
    "    while True:\n",
    "        print(\"Recording Audio ... \")\n",
    "        # call the cry detection model...\n",
    "        label, file = predict_model.predict()\n",
    "        \n",
    "        # if model detects crying...\n",
    "        if label == 1:\n",
    "            print(\"Baby is Crying\")\n",
    "            # crying flag\n",
    "            flag = 1\n",
    "            # store 5 seconds cry sample\n",
    "            move(\"New.wav\", \"Crying_baby/raw/\"+\"Baby_Cry\" + str(cry_count) + \".wav\")\n",
    "            # number of 5 seconds cry samples counter\n",
    "            cry_count += 1\n",
    "\n",
    "            #TODO create I/O flags \n",
    "        \n",
    "        # if everything is good, baby cry not detected...\n",
    "        else:\n",
    "            print(\"Baby is Silent\")\n",
    "            # Later, you can decide to disable line below in order to save storage...\n",
    "            move(\"New.wav\", \"Silence/\"+\"Silent_\" + str(silent_count) + \".wav\")\n",
    "            silent_count += 1"
   ]
  },
  {
   "cell_type": "code",
   "execution_count": 4,
   "id": "1a2e273c-58a8-4e49-b8db-a09624a6ba49",
   "metadata": {},
   "outputs": [
    {
     "name": "stdout",
     "output_type": "stream",
     "text": [
      "Recording Audio ... \n",
      "Baby is Silent\n",
      "Recording Audio ... \n",
      "Baby is Silent\n",
      "Recording Audio ... \n",
      "Baby is Silent\n",
      "Recording Audio ... \n",
      "Baby is Silent\n",
      "Recording Audio ... \n",
      "Baby is Silent\n",
      "Recording Audio ... \n",
      "Baby is Silent\n",
      "Recording Audio ... \n",
      "Baby is Silent\n",
      "Recording Audio ... \n",
      "Baby is Crying\n",
      "Recording Audio ... \n",
      "Baby is Crying\n",
      "Recording Audio ... \n",
      "Baby is Silent\n",
      "Recording Audio ... \n",
      "Baby is Silent\n",
      "Recording Audio ... \n",
      "Baby is Silent\n",
      "Recording Audio ... \n",
      "Baby is Crying\n",
      "Recording Audio ... \n",
      "Baby is Crying\n",
      "Recording Audio ... \n",
      "Baby is Crying\n",
      "Recording Audio ... \n",
      "Baby is Crying\n",
      "Recording Audio ... \n",
      "Baby is Crying\n",
      "Recording Audio ... \n",
      "Baby is Silent\n",
      "Recording Audio ... \n"
     ]
    }
   ],
   "source": [
    "if __name__ == '__main__':\n",
    "    Thread(target=Baby_Cry_Detction).start()"
   ]
  },
  {
   "cell_type": "code",
   "execution_count": null,
   "id": "87a7b49d-0a83-4660-9062-46909feaafe2",
   "metadata": {},
   "outputs": [],
   "source": []
  }
 ],
 "metadata": {
  "kernelspec": {
   "display_name": "Python 3 (ipykernel)",
   "language": "python",
   "name": "python3"
  },
  "language_info": {
   "codemirror_mode": {
    "name": "ipython",
    "version": 3
   },
   "file_extension": ".py",
   "mimetype": "text/x-python",
   "name": "python",
   "nbconvert_exporter": "python",
   "pygments_lexer": "ipython3",
   "version": "3.9.7"
  }
 },
 "nbformat": 4,
 "nbformat_minor": 5
}
